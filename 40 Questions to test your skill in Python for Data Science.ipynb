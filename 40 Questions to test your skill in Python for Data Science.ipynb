{
 "cells": [
  {
   "cell_type": "markdown",
   "metadata": {},
   "source": [
    "https://mode.com/python-tutorial"
   ]
  },
  {
   "cell_type": "markdown",
   "metadata": {},
   "source": [
    "https://www.analyticsvidhya.com/blog/2017/05/questions-python-for-data-science/\n"
   ]
  },
  {
   "cell_type": "markdown",
   "metadata": {},
   "source": [
    "# Question Context 1\n",
    "\n",
    "You must have seen the show “How I met your mother”. Do you remember the game where they played, in which each person drinks a shot whenever someone says “but, um”. I thought of adding a twist to the game. What if you could use your technical skills to play this game?\n",
    "\n",
    "To identify how many shots a person is having in the entire game, you are supposed to write a code.\n",
    "\n",
    "Below is the subtitle sample script.\n",
    "\n",
    "Note: Python regular expression library has been imported as re."
   ]
  },
  {
   "cell_type": "code",
   "execution_count": 5,
   "metadata": {},
   "outputs": [],
   "source": [
    "import re"
   ]
  },
  {
   "cell_type": "code",
   "execution_count": 1,
   "metadata": {},
   "outputs": [],
   "source": [
    "txt = '''450\n",
    " 00:17:53,457 --> 00:17:56,175\n",
    " Okay, but, um,\n",
    " thanks for being with us.\n",
    "\n",
    "451\n",
    " 00:17:56,175 --> 00:17:58,616\n",
    " But, um, if there's any\n",
    " college kids watching,\n",
    "\n",
    "452\n",
    " 00:17:58,616 --> 00:18:01,610\n",
    " But, um, but, um, but, um,\n",
    " but, um, but, um,\n",
    "\n",
    "453\n",
    " 00:18:01,610 --> 00:18:03,656\n",
    " We have to drink, professor.\n",
    "454\n",
    " 00:18:03,656 --> 00:18:07,507\n",
    " It's the rules.\n",
    " She said \"But, um\"\n",
    "\n",
    "455\n",
    " 00:18:09,788 --> 00:18:12,515\n",
    " But, um, but, um, but, um...\n",
    " god help us all.\n",
    " '''"
   ]
  },
  {
   "cell_type": "markdown",
   "metadata": {},
   "source": [
    "1) Which of the following codes would be appropriate for this task?\n",
    "\n",
    "A) len(re.findall(‘But, um’, txt))\n",
    "\n",
    "B) re.search(‘But, um’, txt).count()\n",
    "\n",
    "C) len(re.findall(‘[B,b]ut, um’, txt))\n",
    "\n",
    "D) re.search(‘[B,b]ut, um’, txt)).count() *# 're.Match' object has no attribute 'count'*\n",
    "\n",
    "Solution: (C)\n",
    "\n",
    "You have to find both capital and small versions of “but” So option C is correct."
   ]
  },
  {
   "cell_type": "code",
   "execution_count": null,
   "metadata": {},
   "outputs": [
    {
     "data": {
      "text/plain": [
       "11"
      ]
     },
     "metadata": {},
     "output_type": "display_data"
    }
   ],
   "source": [
    "len(re.findall('[B,b]ut, um', txt))"
   ]
  },
  {
   "cell_type": "markdown",
   "metadata": {},
   "source": [
    "# Question Context 2\n",
    "\n",
    "Suppose you are given the below string"
   ]
  },
  {
   "cell_type": "code",
   "execution_count": 7,
   "metadata": {},
   "outputs": [],
   "source": [
    "str = '''Email_Address,Nickname,Group_Status,Join_Year\n",
    "aa@aaa.com,aa,Owner,2014\n",
    "bb@bbb.com,bb,Member,2015\n",
    "cc@ccc.com,cc,Member,2017\n",
    "dd@ddd.com,dd,Member,2016\n",
    "ee@eee.com,ee,Member,2020\n",
    "'''"
   ]
  },
  {
   "cell_type": "markdown",
   "metadata": {},
   "source": [
    "In order to extract only the domain names from the email addresses from the above string (for eg. “aaa”, “bbb”..) you write the following code:"
   ]
  },
  {
   "cell_type": "code",
   "execution_count": 10,
   "metadata": {},
   "outputs": [
    {
     "name": "stdout",
     "output_type": "stream",
     "text": [
      "aaa\n",
      "bbb\n",
      "ccc\n",
      "ddd\n",
      "eee\n"
     ]
    }
   ],
   "source": [
    "for i in re.finditer('([a-zA-Z]+)@([a-zA-Z]+).(com)', str):\n",
    "    print(i.group(2))"
   ]
  },
  {
   "cell_type": "markdown",
   "metadata": {},
   "source": [
    "2) What number should be mentioned instead of “__” to index only the domains?\n",
    "\n",
    "Note: Python regular expression library has been imported as re.\n",
    "\n",
    " \n",
    "\n",
    "A) 0\n",
    "\n",
    "B) 1\n",
    "\n",
    "C) 2\n",
    "\n",
    "D) 3\n",
    "\n",
    "Solution: (C)"
   ]
  },
  {
   "cell_type": "markdown",
   "metadata": {},
   "source": [
    "# Question Context 3\n",
    "\n",
    "Your friend has a hypothesis – “All those people who have names ending with the sound of “y” (Eg: Hollie) are intelligent people.” Please note: The name should end with the sound of ‘y’ but not end with alphabet ‘y’.\n",
    "\n",
    "Now you being a data freak, challenge the hypothesis by scraping data from your college’s website. Here’s data you have collected."
   ]
  },
  {
   "cell_type": "markdown",
   "metadata": {},
   "source": [
    "# Question Context 4\n",
    "\n",
    "Assume, you are given two lists:"
   ]
  },
  {
   "cell_type": "code",
   "execution_count": 11,
   "metadata": {},
   "outputs": [],
   "source": [
    "a = [1,2,3,4,5]\n",
    "b = [6,7,8,9]"
   ]
  },
  {
   "cell_type": "markdown",
   "metadata": {},
   "source": [
    "The task is to create a list which has all the elements of a and b in one dimension.\n",
    "\n",
    "Output:\n",
    "\n",
    "a = [1,2,3,4,5,6,7,8,9]"
   ]
  },
  {
   "cell_type": "code",
   "execution_count": 12,
   "metadata": {},
   "outputs": [
    {
     "name": "stdout",
     "output_type": "stream",
     "text": [
      "[1, 2, 3, 4, 5, 6, 7, 8, 9]\n"
     ]
    }
   ],
   "source": [
    "a.extend(b)\n",
    "print(a)"
   ]
  },
  {
   "cell_type": "markdown",
   "metadata": {},
   "source": [
    "https://www.geeksforgeeks.org/append-extend-python/\n",
    "\n",
    "If you append another list onto a list, the parameter list will be a single object at the end of the list.\n",
    "\n",
    "['geeks', 'for', 'geeks', [6, 0, 4, 1]]"
   ]
  },
  {
   "cell_type": "markdown",
   "metadata": {},
   "source": [
    "# 5) You have built a machine learning model which you wish to freeze now and use later. Which of the following command can perform this task for you?\n",
    "\n",
    "Note: Pickle library has been imported as pkl.\n",
    "\n",
    "A) push(model, “file”)\n",
    "\n",
    "B) save(model, “file”)\n",
    "\n",
    "C) dump(model, “file”)\n",
    "\n",
    "D) freeze(model, “file”)\n",
    "\n",
    "Solution: (C)"
   ]
  },
  {
   "cell_type": "markdown",
   "metadata": {},
   "source": [
    "# Question Context 6\n",
    "\n",
    "We want to convert the below string in date-time value:"
   ]
  },
  {
   "cell_type": "code",
   "execution_count": 16,
   "metadata": {},
   "outputs": [],
   "source": [
    "import time\n",
    "str = '21/01/2017'\n",
    "datetime_value = time.strptime(str,'%d/%m/%Y')"
   ]
  },
  {
   "cell_type": "markdown",
   "metadata": {},
   "source": [
    "6) To convert the above string, what should be written in place of date_format?\n",
    "\n",
    "A) “%d/%m/%y”\n",
    "\n",
    "B) “%D/%M/%Y”\n",
    "\n",
    "C) “%d/%M/%y”\n",
    "\n",
    "D) “%d/%m/%Y”\n",
    "\n",
    "Solution: (D)\n",
    "\n",
    "Option D is correct"
   ]
  },
  {
   "cell_type": "markdown",
   "metadata": {},
   "source": [
    "# Question Context 7\n",
    "\n",
    "I have built a simple neural network for an image recognition problem. Now, I want to test if I have assigned the weights & biases for the hidden layer correctly. To perform this action, I am giving an identity matrix as input. Below is my identity matrix:\n",
    "\n",
    "A =  [ 1, 0, 0      \n",
    "0, 1, 0     \n",
    "0, 0, 1]\n",
    "\n",
    "7) How would you create this identity matrix in python?\n",
    "\n",
    "Note: Library numpy has been imported as np.\n",
    "\n",
    "A) np.eye(3)\n",
    "\n",
    "B) identity(3)\n",
    "\n",
    "C) np.array([1, 0, 0], [0, 1, 0], [0, 0, 1]) *shoud be [[1, 0, 0], [0, 1, 0], [0, 0, 1]]*\n",
    "\n",
    "D) All of these\n",
    "\n",
    "Solution: (A)\n",
    "\n",
    "Option B does not exist (it should be np.identity()). And option C is wrong, because the syntax is incorrect. So the answer is option A"
   ]
  },
  {
   "cell_type": "code",
   "execution_count": 21,
   "metadata": {},
   "outputs": [
    {
     "name": "stdout",
     "output_type": "stream",
     "text": [
      "[[1 2 3]\n",
      " [3 4 5]]\n",
      "[[1.1 2.  3. ]\n",
      " [3.  4.  5. ]]\n",
      "[[1.+0.j 2.+0.j 3.+0.j]\n",
      " [3.+0.j 4.+0.j 5.+0.j]]\n"
     ]
    }
   ],
   "source": [
    "import numpy as np\n",
    "\n",
    "A = np.array([[1, 2, 3], [3, 4, 5]])\n",
    "print(A)\n",
    "\n",
    "A = np.array([[1.1, 2, 3], [3, 4, 5]]) # Array of floats\n",
    "print(A)\n",
    "\n",
    "A = np.array([[1, 2, 3], [3, 4, 5]], dtype = complex) # Array of complex numbers\n",
    "print(A)"
   ]
  },
  {
   "cell_type": "markdown",
   "metadata": {},
   "source": []
  }
 ],
 "metadata": {
  "interpreter": {
   "hash": "40d3a090f54c6569ab1632332b64b2c03c39dcf918b08424e98f38b5ae0af88f"
  },
  "kernelspec": {
   "display_name": "Python 3.8.3 ('base')",
   "language": "python",
   "name": "python3"
  },
  "language_info": {
   "codemirror_mode": {
    "name": "ipython",
    "version": 3
   },
   "file_extension": ".py",
   "mimetype": "text/x-python",
   "name": "python",
   "nbconvert_exporter": "python",
   "pygments_lexer": "ipython3",
   "version": "3.8.3"
  },
  "orig_nbformat": 4
 },
 "nbformat": 4,
 "nbformat_minor": 2
}
