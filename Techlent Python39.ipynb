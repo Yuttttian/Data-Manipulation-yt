{
 "cells": [
  {
   "cell_type": "markdown",
   "metadata": {},
   "source": [
    "# Techlent Python 39"
   ]
  },
  {
   "cell_type": "markdown",
   "metadata": {},
   "source": [
    "## 1 Python Kick Off"
   ]
  },
  {
   "cell_type": "markdown",
   "metadata": {},
   "source": [
    "### 1. Hello World\n",
    "Description\n",
    "Build a function HelloWorld which returns \"Hello World\".\n",
    "\n",
    "Examples\n",
    "HelloWorld( ) return \"Hello World\""
   ]
  },
  {
   "cell_type": "code",
   "execution_count": 6,
   "metadata": {},
   "outputs": [],
   "source": [
    "def HelloWorld():\n",
    "    return \"Hello World\""
   ]
  },
  {
   "cell_type": "markdown",
   "metadata": {},
   "source": [
    "### 2. Pound to Kilogram\n",
    "Description\n",
    "Build a function LB2KG which takes a value in pound as input and returns the corresponding value in kilogram. One pound equals to 0.4536 kg.\n",
    "\n",
    "Examples\n",
    "LB2KG(1) returns 0.4536"
   ]
  },
  {
   "cell_type": "markdown",
   "metadata": {},
   "source": [
    "### 3. Odd Number\n",
    "Description\n",
    "Build a function Odd which takes an integer as input and returns a boolin to tell whether the integer is odd or not.\n",
    "\n",
    "Examples\n",
    "Odd(3) returns True\n",
    "Odd(4) returns False"
   ]
  },
  {
   "cell_type": "code",
   "execution_count": 7,
   "metadata": {},
   "outputs": [],
   "source": [
    "def Odd(num):\n",
    "    return (num % 2 == 1)"
   ]
  },
  {
   "cell_type": "markdown",
   "metadata": {},
   "source": [
    "### 4. FizzBuzz\n",
    "Description     \n",
    "Build a function FizzBuzz which takes a positive integer as input. If the number is divisible by 3, the function returns \"Fizz\". If the number is divisible by 5, the function returns \"Buzz\". If the number is divisible by both 3 and 5, the function returns \"FizzBuzz\". Otherwise, the function returns the number itself.\n",
    "\n",
    "Examples        \n",
    "FizzBuzz(45) returns \"FizzBuzz\"     \n",
    "FizzBuzz(9) returns \"Fizz\"      \n",
    "FizzBuzz(25) returns \"Buzz\"     \n",
    "FizzBuzz(17) returns \"17\"       "
   ]
  },
  {
   "cell_type": "code",
   "execution_count": 8,
   "metadata": {},
   "outputs": [],
   "source": [
    "def FizzBuzz(num):\n",
    "    if num % 3 == 0 and num % 5 == 0:\n",
    "        return \"FizzBuzz\"\n",
    "    elif num % 3 == 0:\n",
    "        return \"Fizz\"\n",
    "    elif num % 5 == 0:\n",
    "        return \"Buzz\"\n",
    "    else:\n",
    "        return num"
   ]
  },
  {
   "cell_type": "markdown",
   "metadata": {},
   "source": [
    "### 5. Square Root\n",
    "Description     \n",
    "Build a function sqrt to calculate the square root of a positive integer number. If the result is not a integer, the function returns the nearest integer to the left of the result number.\n",
    "\n",
    "Examples        \n",
    "sqrt(16) returns 4      \n",
    "sqrt(17) returns 4      \n",
    "sqrt(77) returns 8      \n",
    "sqrt(1) returns 1       "
   ]
  },
  {
   "cell_type": "code",
   "execution_count": 9,
   "metadata": {},
   "outputs": [],
   "source": [
    "def sqrt(num):\n",
    "    import math\n",
    "    return math.floor(num**(1/2))"
   ]
  },
  {
   "cell_type": "markdown",
   "metadata": {},
   "source": [
    "## 2 List I"
   ]
  },
  {
   "cell_type": "markdown",
   "metadata": {},
   "source": [
    "### 6. List Comprehension\n",
    "Description     \n",
    "Build a function LstComp which takes two integers (i and j) as inputs and returns a list of numbers from i to j.\n",
    "\n",
    "Examples        \n",
    "LstComp(1, 5) returns [1, 2, 3, 4, 5]"
   ]
  },
  {
   "cell_type": "markdown",
   "metadata": {},
   "source": [
    "def LstComp(i,j):\n",
    "    return [i for i in range(i,j+1)]"
   ]
  },
  {
   "cell_type": "markdown",
   "metadata": {},
   "source": [
    "### 7. OddNums\n",
    "Description     \n",
    "Build a function OddNums which takes two integers (i and j) as inputs and returns a list of ODD numbers between i and j inclusively.\n",
    "\n",
    "Examples        \n",
    "OddNums(1, 5) returns [1, 3, 5]     \n",
    "OddNums(2, 6) returns [3, 5]        \n",
    "OddNums(1, 2) returns [1]"
   ]
  },
  {
   "cell_type": "code",
   "execution_count": 10,
   "metadata": {},
   "outputs": [],
   "source": [
    "def OddNums(i,j):\n",
    "    return [i for i in range(i,j+1) if i % 2 != 0 ]"
   ]
  },
  {
   "cell_type": "markdown",
   "metadata": {},
   "source": [
    "### 8. C2F     \n",
    "Description     \n",
    "Build a function C2F which converts a list of temperatures in degrees from Celsius to Fahrenheit. F=C*1.8+32.\n",
    "\n",
    "Examples        \n",
    "C2F([0, 38]) returns [32.0, 100.4]"
   ]
  },
  {
   "cell_type": "code",
   "execution_count": 11,
   "metadata": {},
   "outputs": [],
   "source": [
    "def C2F(lst):\n",
    "    return [i*1.8+32 for i in lst]"
   ]
  },
  {
   "cell_type": "markdown",
   "metadata": {},
   "source": [
    "### 9. Fibonacci List\n",
    "Description     \n",
    "The Fibonacci List is the list of numbers: 0, 1, 1, 2, 3, 5, 8, 13, 21, 34, … The next number is generated by adding up the two numbers before it. Build a function FibLst which takes an integer n as input and returns an n-element Fibonacci List. If n is less than 1, returns -1.\n",
    "\n",
    "Examples        \n",
    "FibLst(1) returns [0]       \n",
    "FibLst(3) returns [0, 1, 1]     \n",
    "FibLst(6) returns [0, 1, 1, 2, 3, 5]        \n",
    "FibLst(-3) returns -1"
   ]
  },
  {
   "cell_type": "code",
   "execution_count": 12,
   "metadata": {},
   "outputs": [],
   "source": [
    "def FibLst(num):\n",
    "    lst = [0,1]\n",
    "    if num < 1:\n",
    "        return -1\n",
    "    elif num <= len(lst):\n",
    "        return lst[:num]\n",
    "    else:\n",
    "        for i in range(2,num):\n",
    "            lst.append(lst[i-1] + lst[i-2])\n",
    "        return lst"
   ]
  },
  {
   "cell_type": "markdown",
   "metadata": {},
   "source": [
    "### 10. Reverse List\n",
    "Description     \n",
    "Build a function RevLst which reverses a list.      \n",
    "\n",
    "Examples        \n",
    "RevLst([3, 1, 9, 8, 4]) returns [4, 8, 9, 1, 3]"
   ]
  },
  {
   "cell_type": "code",
   "execution_count": null,
   "metadata": {},
   "outputs": [],
   "source": [
    "def RevLst(lst):\n",
    "    return lst[::-1]"
   ]
  },
  {
   "cell_type": "markdown",
   "metadata": {},
   "source": [
    "### 11. Whether an Element in the List\n",
    "Description     \n",
    "Build a function IsIn to tell whether a target element in a list.\n",
    "\n",
    "Examples        \n",
    "IsIn([1, 2, 3, 4, 5], 2) returns True       \n",
    "IsIn([1, 2, 3, 4, 5], 6) returns False  "
   ]
  },
  {
   "cell_type": "code",
   "execution_count": null,
   "metadata": {},
   "outputs": [],
   "source": [
    "def IsIn(lst,num):\n",
    "    return num in lst"
   ]
  },
  {
   "cell_type": "markdown",
   "metadata": {},
   "source": [
    "### 12. Remove an Element\n",
    "Description     \n",
    "Build a function RmEl to remove a target element from a list. If the target element appears in the list for multiple times, only remove the first one.\n",
    "\n",
    "Examples    \n",
    "RmEl([1, 2, 3, 4, 5], 2) returns [1, 3, 4, 5]       \n",
    "RmEl([1, 2, 3, 4, 5], 6) returns [1, 2, 3, 4, 5]    \n",
    "RmEl([1, 2, 3, 3, 4, 5], 3) returns [1, 2, 3, 4, 5]"
   ]
  },
  {
   "cell_type": "code",
   "execution_count": 13,
   "metadata": {},
   "outputs": [],
   "source": [
    "def RmEl(lst,target):\n",
    "    if target in lst:\n",
    "        lst.remove(target)\n",
    "    return lst"
   ]
  },
  {
   "cell_type": "markdown",
   "metadata": {},
   "source": [
    "*the remove() method only removes the first matching element.*"
   ]
  },
  {
   "cell_type": "markdown",
   "metadata": {},
   "source": [
    "### 13. Separate Numbers\n",
    "Description     \n",
    "Build a function SepNum which extracts the odd numbers from a given list ands append the odd numbers at the end of the list.\n",
    "\n",
    "Examples        \n",
    "SepNum([1, 2, 3, 4, 5, 6]) returns [2, 4, 6, 1, 3, 5]   \n",
    "SepNum([1, 3, 5]) returns [1, 3, 5]     \n",
    "SepNum([2, 4, 6]) returns [2, 4, 6]"
   ]
  },
  {
   "cell_type": "code",
   "execution_count": null,
   "metadata": {},
   "outputs": [],
   "source": [
    "def SepNum(lst):\n",
    "    return [i for i in lst if i % 2 == 0]+[i for i in lst if i % 2 == 1]"
   ]
  },
  {
   "cell_type": "markdown",
   "metadata": {},
   "source": [
    "### 14. Remove Duplicates from a List   \n",
    "Description \n",
    "Build a function RmDuplicate which remove all the duplicates from a list.   \n",
    "\n",
    "Examples    \n",
    "RmDuplicate([3, 1, 2, 3, 4, 5, 6]) returns [1, 2, 3, 4, 5, 6]   \n",
    "RmDuplicate([1, 3, 5]) returns [1, 3, 5]\n",
    "\n",
    "https://www.geeksforgeeks.org/python-ways-to-remove-duplicates-from-list/   \n",
    "https://www.geeksforgeeks.org/python-ways-to-remove-particular-list-element/"
   ]
  },
  {
   "cell_type": "code",
   "execution_count": 18,
   "metadata": {},
   "outputs": [],
   "source": [
    "def RmDuplicate(lst):\n",
    "    res = []\n",
    "    # [res.append(x) for x in lst if x not in res] keep the orginal order\n",
    "    return list(set(lst)) # reorder in ascending order # if not list, will return {}"
   ]
  },
  {
   "cell_type": "code",
   "execution_count": 19,
   "metadata": {},
   "outputs": [
    {
     "data": {
      "text/plain": [
       "[1, 2, 3, 4, 5, 6]"
      ]
     },
     "execution_count": 19,
     "metadata": {},
     "output_type": "execute_result"
    }
   ],
   "source": [
    "RmDuplicate([3, 1, 2, 3, 4, 5, 6])"
   ]
  },
  {
   "cell_type": "markdown",
   "metadata": {},
   "source": [
    "## 3. List II"
   ]
  },
  {
   "cell_type": "markdown",
   "metadata": {},
   "source": [
    "### 15. Sort a List\n",
    "Description     \n",
    "Build a function SortLst which sorts a list. At this time you can just use the built-in function in Python.\n",
    "\n",
    "Examples       \n",
    "SortLst([4, 2, 1, 3, 4, 5]) returns [1, 2, 3, 4, 4, 5]      \n",
    "SortLst([1, 3, 5]) returns [1, 3, 5]"
   ]
  },
  {
   "cell_type": "code",
   "execution_count": 4,
   "metadata": {},
   "outputs": [],
   "source": [
    "def SortLst(lst):\n",
    "    lst.sort()\n",
    "    return  lst"
   ]
  },
  {
   "cell_type": "markdown",
   "metadata": {},
   "source": [
    "### 16. Insert a Number in a Sorted List\n",
    "Description     \n",
    "Build a function NumInsert which inserts a number in a sorted list.\n",
    "\n",
    "Examples       \n",
    "NumInsert([1, 2, 3, 4, 5, 6], 3) returns [1, 2, 3, 3, 4, 5, 6]      \n",
    "NumInsert([1, 2, 3, 4, 5, 6], 7) returns [1, 2, 3, 4, 5, 6, 7]      \n",
    "NumInsert([1, 2, 3, 4, 5, 6], -1) returns [-1, 1, 2, 3, 4, 5, 6]"
   ]
  },
  {
   "cell_type": "code",
   "execution_count": 5,
   "metadata": {},
   "outputs": [],
   "source": [
    "def NumInsert(lst,num):\n",
    "    lst.append(num)\n",
    "    lst.sort()\n",
    "    return lst"
   ]
  },
  {
   "cell_type": "markdown",
   "metadata": {},
   "source": [
    "### 17. Remove duplicates from a sorted list\n",
    "Description \n",
    "Build a function SortRm which removes duplicate numbers in a sorted list.   \n",
    "\n",
    "Examples    \n",
    "SortRm([1, 2, 2, 3, 4, 4, 5, 6]) returns [1, 2, 3, 4, 5, 6]     \n",
    "SortRm([1, 2, 3, 4, 5, 6]) returns [1, 2, 3, 4, 5, 6]"
   ]
  },
  {
   "cell_type": "code",
   "execution_count": 4,
   "metadata": {},
   "outputs": [],
   "source": [
    "def SortRm(lst):\n",
    "    res = []\n",
    "    [res.append(x) for x in lst if x not in res]\n",
    "    return res"
   ]
  },
  {
   "cell_type": "markdown",
   "metadata": {},
   "source": [
    "### 18. Merge Two Sorted Lists\n",
    "Description \n",
    "Build a function MergeSorted which merges two sorted lists as one sorted list.\n",
    "\n",
    "Examples    \n",
    "MergeSorted([1, 3, 5], [2, 4, 6]) returns [1, 2, 3, 4, 5, 6]    \n",
    "MergeSorted([1, 2, 3], [4, 5, 6]) returns [1, 2, 3, 4, 5, 6]"
   ]
  },
  {
   "cell_type": "code",
   "execution_count": 5,
   "metadata": {},
   "outputs": [],
   "source": [
    "def MergeSorted(lst1,lst2):\n",
    "    lst1.extend(lst2)\n",
    "    lst1.sort()\n",
    "    return lst1"
   ]
  },
  {
   "cell_type": "markdown",
   "metadata": {},
   "source": [
    "### 19. List to Number  \n",
    "Description \n",
    "Build a function Lst2Num which convert a number list into one number.   \n",
    "\n",
    "Examples    \n",
    "Lst2Num([1, 3, 5]) returns 135  \n",
    "Lst2Num([0, 1, 2, 0, 3]) returns 1203   \n",
    "https://stackoverflow.com/questions/489999/convert-list-of-ints-to-one-number"
   ]
  },
  {
   "cell_type": "code",
   "execution_count": 2,
   "metadata": {},
   "outputs": [],
   "source": [
    "def Lst2Num(lst):\n",
    "    # num = 0\n",
    "    # for i in range(0,len(lst)):\n",
    "    #     num = num + lst[len(lst)-1-i]*(10)**(i)\n",
    "    # return num\n",
    "\n",
    "    return int(''.join(map(str,lst)))"
   ]
  },
  {
   "cell_type": "code",
   "execution_count": 3,
   "metadata": {},
   "outputs": [
    {
     "data": {
      "text/plain": [
       "1203"
      ]
     },
     "execution_count": 3,
     "metadata": {},
     "output_type": "execute_result"
    }
   ],
   "source": [
    "Lst2Num([0, 1, 2, 0, 3])"
   ]
  },
  {
   "cell_type": "markdown",
   "metadata": {},
   "source": [
    "### 20. Maximum Stock Gain\n",
    "Description \n",
    "Build a function MaxGain to find the maximum you can gain by buying and selling stocks. The strock prices represented as a list of numbers. You need to buy stocks before you sell them.    \n",
    "\n",
    "Examples    \n",
    "MaxGain([3, 4, 1, 5, 7, 2]) returns 6 --Explanation: Buy stocks when the price is 1 and sell them when the price is 7.  \n",
    "MaxGain([5, 4, 3, 2, 1]) returns 0  \n",
    "\n",
    "dynamic programming\n",
    "https://leetcode.cn/problems/best-time-to-buy-and-sell-stock/"
   ]
  },
  {
   "cell_type": "code",
   "execution_count": 28,
   "metadata": {},
   "outputs": [],
   "source": [
    "def MaxGain(price_lst):\n",
    "    if len(price_lst) <= 1:\n",
    "        return 0\n",
    "    \n",
    "    max_profit = 0\n",
    "    min_input = price_lst[0]\n",
    "    for p in price_lst[1:]:\n",
    "        min_input = min(p,min_input)\n",
    "        max_profit = max(max_profit,p - min_input)\n",
    "    return max_profit"
   ]
  },
  {
   "cell_type": "markdown",
   "metadata": {},
   "source": [
    "### 21. Sort List of Lists\n",
    "Description     \n",
    "Build a function SortLL which sorts a list of lists by their last elements.\n",
    "\n",
    "Examples        \n",
    "SortLL([[1, 3, 5], [2, 4], [9, 7], [3]]) returns [[3], [2, 4], [1, 3, 5], [9, 7]]"
   ]
  },
  {
   "cell_type": "code",
   "execution_count": 29,
   "metadata": {},
   "outputs": [],
   "source": [
    "def SortLL(my_lst):\n",
    "    my_lst.sort(key=lambda x:x[-1])\n",
    "    return my_lst"
   ]
  },
  {
   "cell_type": "markdown",
   "metadata": {},
   "source": [
    ".sort()     \n",
    "reverse parameter   \n",
    "use the key parameter to set the built-in or custom function to compare each element of a list and sort it. For example, the following uses the built-in len() function that returns the length of each element and sorts based on the length of each element. the our case, we use lambda funtion      "
   ]
  },
  {
   "cell_type": "markdown",
   "metadata": {},
   "source": [
    "### 22.Pascals Triangle\n",
    "Description     \n",
    "Build a function PascalsT which takes an integer n as an input and generate a n layer Pascals Triangle.\n",
    "\n",
    "Examples    \n",
    "PascalsT(3) returns [[1], [1, 1], [1, 2, 1]]    \n",
    "PascalsT(5) returns [[1], [1, 1], [1, 2, 1], [1, 3, 3, 1], [1, 4, 6, 4, 1]]"
   ]
  },
  {
   "cell_type": "code",
   "execution_count": 23,
   "metadata": {},
   "outputs": [],
   "source": [
    "def PascalsT(degree):\n",
    "    Pascal_list =[[1]]   #FIrst entry Defined to start \n",
    "    for i in range(1,degree): \n",
    "        temp_list =[]\n",
    "        for j in range(i+1): \n",
    "            if j==0: #First Element = 1\n",
    "                temp_list.append(1)\n",
    "            elif j == i: #Last Element = 1\n",
    "                temp_list.append(1)\n",
    "            else:\n",
    "                temp_list.append(Pascal_list[i-1][j]+Pascal_list[i-1][j-1]) # Addition of Upper Two Elements\n",
    "        Pascal_list.append(temp_list)\n",
    "\n",
    "    return Pascal_list"
   ]
  },
  {
   "cell_type": "code",
   "execution_count": 25,
   "metadata": {},
   "outputs": [
    {
     "data": {
      "text/plain": [
       "[[1], [1, 1], [1, 2, 1], [1, 3, 3, 1], [1, 4, 6, 4, 1]]"
      ]
     },
     "execution_count": 25,
     "metadata": {},
     "output_type": "execute_result"
    }
   ],
   "source": [
    "PascalsT(5)"
   ]
  },
  {
   "cell_type": "markdown",
   "metadata": {},
   "source": [
    "## 4. String"
   ]
  },
  {
   "cell_type": "markdown",
   "metadata": {},
   "source": [
    "### 23. Description \n",
    "Build a function AllRed that takes a list of strings as input, returns a boolean indicating whether all the strings containing word \"red\".\n",
    "\n",
    "Examples    \n",
    "AllRed([\"red hat\", \"a pair of red shoes\", \"three red apples\"]) returns True     \n",
    "AllRed([\"red hat\", \"white shirt\", \"black eyes\"]) returns False      \n",
    "AllRed([]) returns False"
   ]
  },
  {
   "cell_type": "code",
   "execution_count": null,
   "metadata": {},
   "outputs": [],
   "source": [
    "def AllRed(lst):\n",
    "    if lst:\n",
    "        return all('red' in my_str for my_str in lst)\n",
    "    else:\n",
    "        return False"
   ]
  },
  {
   "cell_type": "markdown",
   "metadata": {},
   "source": [
    "### 24. Reverse String\n",
    "Description     \n",
    "Build a function RevStr to reverse a string.    \n",
    "\n",
    "Examples        \n",
    "RevStr(\"abcd\") returns \"dcba\"   "
   ]
  },
  {
   "cell_type": "code",
   "execution_count": null,
   "metadata": {},
   "outputs": [],
   "source": [
    "def RevStr(my_str):\n",
    "    return my_str[::-1]"
   ]
  },
  {
   "cell_type": "markdown",
   "metadata": {},
   "source": [
    "### 25. Reverse Sentence\n",
    "Description     \n",
    "Build a function RevSen to reverse a sentence.\n",
    "\n",
    "Examples        \n",
    "RevSen(\"we are all friends\") returns \"friends all are we”"
   ]
  },
  {
   "cell_type": "code",
   "execution_count": 26,
   "metadata": {},
   "outputs": [],
   "source": [
    "def RevSen(my_str):\n",
    "    return \" \".join(my_str.split()[::-1])"
   ]
  },
  {
   "cell_type": "code",
   "execution_count": 29,
   "metadata": {},
   "outputs": [
    {
     "data": {
      "text/plain": [
       "['friends', 'all', 'are', 'we']"
      ]
     },
     "execution_count": 29,
     "metadata": {},
     "output_type": "execute_result"
    }
   ],
   "source": [
    "my_str = 'friends all are we'\n",
    "my_str.split()"
   ]
  },
  {
   "cell_type": "markdown",
   "metadata": {},
   "source": [
    "### 26. Reverse Words\n",
    "Description     \n",
    "Build a function RevWords to reverse each word of a sentence.\n",
    "\n",
    "Examples       \n",
    "RevWords(\"we are all friends\") returns \"ew era lla sdneirf\""
   ]
  },
  {
   "cell_type": "code",
   "execution_count": 30,
   "metadata": {},
   "outputs": [],
   "source": [
    "def RevWords(my_str):\n",
    "    return \" \".join(i[::-1] for i in my_str.split())"
   ]
  },
  {
   "cell_type": "markdown",
   "metadata": {},
   "source": [
    "### 27. Capitalize First Letters\n",
    "Description     \n",
    "Build a function CapLett to capitalize the first letter of each word in a sentence.\n",
    "\n",
    "Examples    \n",
    "CapLett(\"we are all friends\") returns \"We Are All Friends\""
   ]
  },
  {
   "cell_type": "code",
   "execution_count": null,
   "metadata": {},
   "outputs": [],
   "source": [
    "def CapLett(my_str):\n",
    "    return ' '.join(i.title() for i in my_str.split())"
   ]
  },
  {
   "cell_type": "markdown",
   "metadata": {},
   "source": [
    "### 28. Remove Punctuations\n",
    "Description     \n",
    "Build a function RmPunct to remove punctuations from a string.\n",
    "\n",
    "Examples        \n",
    "RmPunct(\"He said, that is great!!\") returns \"He said that is great\""
   ]
  },
  {
   "cell_type": "code",
   "execution_count": null,
   "metadata": {},
   "outputs": [],
   "source": []
  },
  {
   "cell_type": "markdown",
   "metadata": {},
   "source": [
    "### 29. N Grams\n",
    "Description     \n",
    "Build a function NGram which takes a string s and an integer n as inputs, returns a list of n grams of s.\n",
    "\n",
    "Examples        \n",
    "NGram(\"techlent\", 2) returns [\"te\", \"ec\", \"ch\", \"hl\", \"le\", \"en\", \"nt\"]     \n",
    "NGram(\"abc\", 3) returns [\"abc\"]     \n",
    "NGram(\"abc\", 4) returns [   ]       \n",
    "NGram(\"abc\", 1) returns [\"a\", \"b\", \"c\"] "
   ]
  },
  {
   "cell_type": "markdown",
   "metadata": {},
   "source": [
    "### 30. Palindrome\n",
    "Description     \n",
    "Build a function isPalindrome which takes a string as an input and returns boolin value telling whether the string is a palindrome.     \n",
    "\n",
    "Examples    \n",
    "isPalindrome(\"abcba\") returns True  \n",
    "isPalindrome(\"abba\") returns True   \n",
    "isPalindrome(\"a\") returns True  \n",
    "isPalindrome(\"\") returns True   \n",
    "isPalindrome(\"abcd\") returns False  "
   ]
  },
  {
   "cell_type": "markdown",
   "metadata": {},
   "source": [
    "### 31. Letter Palindrome\n",
    "Description \n",
    "Build a function LettPalind to determine a string is a palindrome or not. We only consider letters this time.\n",
    "\n",
    "Examples    \n",
    "LettPalind(\"909@,.\") returns True   \n",
    "LettPalind(\"He is Sieh!\") returns True  \n",
    "LettPalind(\"His name is Sieh.\") returns False"
   ]
  },
  {
   "cell_type": "markdown",
   "metadata": {},
   "source": [
    "### 32. Valid Parenthesis\n",
    "Description     \n",
    "Build a function ValidParenthesis to determine the parenthesis in a string are valid.\n",
    "\n",
    "Examples    \n",
    "ValidParenthesis(\"((()))()\") returns True   \n",
    "ValidParenthesis(\"()()()\") returns True     \n",
    "ValidParenthesis(\"()()()(\") returns False   \n",
    "ValidParenthesis(\"((())))\") returns False   "
   ]
  },
  {
   "cell_type": "markdown",
   "metadata": {},
   "source": []
  },
  {
   "cell_type": "markdown",
   "metadata": {},
   "source": [
    "## 5. Dictionary"
   ]
  },
  {
   "cell_type": "markdown",
   "metadata": {},
   "source": [
    "### 33. Key Value Switch\n",
    "Description     \n",
    "Build a function kvSwitch to switch the keys and values of a dictionary.\n",
    "\n",
    "Examples    \n",
    "kvSwitch({\"a\": \"1\", \"b\": \"2\", \"c\": \"3\"}) returns {\"1\": \"a\", \"2\": \"b\", \"3\": “c\"}"
   ]
  },
  {
   "cell_type": "code",
   "execution_count": 2,
   "metadata": {},
   "outputs": [],
   "source": [
    "def kvSwitch(my_dict):\n",
    "    return {y: x for x, y in my_dict.items()}"
   ]
  },
  {
   "cell_type": "markdown",
   "metadata": {},
   "source": [
    "### 34. Rank Keys by Values\n",
    "Description     \n",
    "Build a function RankK which takes a dictionary as input returns a list of keys which sorted by their values.\n",
    "\n",
    "Examples       \n",
    "RankK({\"a\": 7, \"b\": 5, \"c\": 9}) returns [\"b\", \"a\", \"c\"]"
   ]
  },
  {
   "cell_type": "code",
   "execution_count": 1,
   "metadata": {},
   "outputs": [],
   "source": [
    "def RankK(my_dict):\n",
    "    return sorted(my_dict, key=my_dict.get)"
   ]
  },
  {
   "cell_type": "markdown",
   "metadata": {},
   "source": [
    "### 35. Character Frequency\n",
    "Description     \n",
    "Build a function ChaFreq to calculate the frequencies of characters in a string. Store the results in a dictionary.\n",
    "\n",
    "Examples        \n",
    "ChaFreq(\"techlent\") returns {\"c\": 1, \"e\": 2, \"h\": 1, \"l\": 1, \"n\": 1, \"t\": 2}"
   ]
  },
  {
   "cell_type": "code",
   "execution_count": 3,
   "metadata": {},
   "outputs": [],
   "source": [
    "def ChaFreq(my_str):\n",
    "    freq = {}\n",
    "    for i in my_str:\n",
    "        if i in freq:\n",
    "            freq[i] += 1\n",
    "        else:\n",
    "            freq[i] = 1\n",
    "    return freq"
   ]
  },
  {
   "cell_type": "markdown",
   "metadata": {},
   "source": [
    "### 36. Unique Only\n",
    "Description     \n",
    "Build a function UniqueOnly to detect whether a string only contains unique characters.\n",
    "\n",
    "Examples        \n",
    "UniqueOnly(\"techlent\") returns False       \n",
    "UniqueOnly(\"abcde\") returns True"
   ]
  },
  {
   "cell_type": "markdown",
   "metadata": {},
   "source": [
    "https://www.geeksforgeeks.org/determine-string-unique-characters/\n",
    "\n",
    "Time Complexity"
   ]
  },
  {
   "cell_type": "code",
   "execution_count": 26,
   "metadata": {},
   "outputs": [],
   "source": [
    "def UniqueOnly(my_str):\n",
    "    freq = {}\n",
    "    for i in my_str:\n",
    "        if i in freq:\n",
    "            freq[i] += 1\n",
    "        else:\n",
    "            freq[i] = 1\n",
    "    return not any(v > 1 for v in iter(freq.values()))\n",
    "    #  any(v == 1 for v in iter(freq.values()))"
   ]
  },
  {
   "cell_type": "code",
   "execution_count": 27,
   "metadata": {},
   "outputs": [
    {
     "data": {
      "text/plain": [
       "False"
      ]
     },
     "execution_count": 27,
     "metadata": {},
     "output_type": "execute_result"
    }
   ],
   "source": [
    "UniqueOnly('techlent')"
   ]
  },
  {
   "cell_type": "markdown",
   "metadata": {},
   "source": [
    "### 37. Same Pattern\n",
    "Description     \n",
    "Build a function SamePattern takes two strings as inputs and determines whether they are in the same pattern.\n",
    "\n",
    "Examples        \n",
    "SamePattern(\"egg\", \"zoo\") returns True      \n",
    "SamePattern(\"abb\", \"ab\") returns False      \n",
    "SamePattern(\"hello\", \"agree\") returns False     \n",
    "SamePattern(\"aaa\", \"abc\") returns False     \n",
    "SamePattern(\"abc\", \"aaa\") returns False     "
   ]
  },
  {
   "cell_type": "markdown",
   "metadata": {},
   "source": [
    "### 38. Anagrams\n",
    "Description     \n",
    "Build a function anagrams to determine whether two given strings are anagrams.      \n",
    "\n",
    "Examples        \n",
    "anagrams(\"abc\", \"cba\") returns True     \n",
    "anagrams(\"ab\", \"abc\") returns False     \n",
    "anagrams(\"abccba\", \"aabbbc\") returns False      "
   ]
  },
  {
   "cell_type": "markdown",
   "metadata": {},
   "source": [
    "### 39. Target Sum\n",
    "Description     \n",
    "Build a function TargetSum which takes a list and a target number as inputs. If there are two numbers in the list whose sum equals to the target number, the function returns the indice of the two numbers in list, otherwise returns -1.\n",
    "\n",
    "Examples        \n",
    "TargetSum([1, 2, 5, 9, 8, 11], 6) returns [0, 2] (1+5=6)        \n",
    "TargetSum([1, 2, 5, 9, 8, 11], 11) returns [1, 3]       \n",
    "TargetSum([1, 2, 5, 9, 8, 11], 5) returns -1        \n",
    "TargetSum([1, 2, 5, 9, 8, 11], 14) returns [2, 3]"
   ]
  },
  {
   "cell_type": "markdown",
   "metadata": {},
   "source": [
    "https://www.analyticsvidhya.com/blog/2017/05/questions-python-for-data-science/\n"
   ]
  },
  {
   "cell_type": "code",
   "execution_count": 4,
   "metadata": {},
   "outputs": [],
   "source": [
    "import re"
   ]
  },
  {
   "cell_type": "code",
   "execution_count": 5,
   "metadata": {},
   "outputs": [],
   "source": [
    "txt = '''450\n",
    " 00:17:53,457 --> 00:17:56,175\n",
    " Okay, but, um,\n",
    " thanks for being with us.\n",
    "\n",
    "451\n",
    " 00:17:56,175 --> 00:17:58,616\n",
    " But, um, if there's any\n",
    " college kids watching,\n",
    "\n",
    "452\n",
    " 00:17:58,616 --> 00:18:01,610\n",
    " But, um, but, um, but, um,\n",
    " but, um, but, um,\n",
    "\n",
    "453\n",
    " 00:18:01,610 --> 00:18:03,656\n",
    " We have to drink, professor.\n",
    "454\n",
    " 00:18:03,656 --> 00:18:07,507\n",
    " It's the rules.\n",
    " She said \"But, um\"\n",
    "\n",
    "455\n",
    " 00:18:09,788 --> 00:18:12,515\n",
    " But, um, but, um, but, um...\n",
    " god help us all.\n",
    " '''"
   ]
  },
  {
   "cell_type": "code",
   "execution_count": 6,
   "metadata": {},
   "outputs": [
    {
     "data": {
      "text/plain": [
       "11"
      ]
     },
     "execution_count": 6,
     "metadata": {},
     "output_type": "execute_result"
    }
   ],
   "source": [
    "len(re.findall('[B,b]ut, um', txt))"
   ]
  },
  {
   "cell_type": "code",
   "execution_count": 7,
   "metadata": {},
   "outputs": [],
   "source": [
    "str = '''Email_Address,Nickname,Group_Status,Join_Year\n",
    "aa@aaa.com,aa,Owner,2014\n",
    "bb@bbb.com,bb,Member,2015\n",
    "cc@ccc.com,cc,Member,2017\n",
    "dd@ddd.com,dd,Member,2016\n",
    "ee@eee.com,ee,Member,2020\n",
    "'''"
   ]
  },
  {
   "cell_type": "code",
   "execution_count": 8,
   "metadata": {},
   "outputs": [
    {
     "name": "stdout",
     "output_type": "stream",
     "text": [
      "aaa\n",
      "bbb\n",
      "ccc\n",
      "ddd\n",
      "eee\n"
     ]
    }
   ],
   "source": [
    "for i in re.finditer('([a-zA-Z]+)@([a-zA-Z]+).(com)', str):\n",
    "    print(i.group(2))"
   ]
  },
  {
   "cell_type": "markdown",
   "metadata": {},
   "source": [
    "Question Context 4\n",
    "\n",
    "Assume, you are given two lists:\n",
    "\n",
    "a = [1,2,3,4,5]\n",
    "\n",
    "b = [6,7,8,9]\n",
    "\n",
    "The task is to create a list which has all the elements of a and b in one dimension.\n",
    "\n",
    "Output:\n",
    "\n",
    "a = [1,2,3,4,5,6,7,8,9]"
   ]
  },
  {
   "cell_type": "code",
   "execution_count": 9,
   "metadata": {},
   "outputs": [
    {
     "name": "stdout",
     "output_type": "stream",
     "text": [
      "[1, 2, 3, 4, 5, 6, 7, 8, 9]\n"
     ]
    }
   ],
   "source": [
    "a = [1,2,3,4,5]\n",
    "b = [6,7,8,9]\n",
    "\n",
    "a.extend(b)\n",
    "print(a)"
   ]
  },
  {
   "cell_type": "markdown",
   "metadata": {},
   "source": [
    "https://www.geeksforgeeks.org/append-extend-python/\n",
    "\n",
    "If you append another list onto a list, the parameter list will be a single object at the end of the list.\n",
    "\n",
    "['geeks', 'for', 'geeks', [6, 0, 4, 1]]"
   ]
  },
  {
   "cell_type": "code",
   "execution_count": null,
   "metadata": {},
   "outputs": [],
   "source": []
  },
  {
   "cell_type": "markdown",
   "metadata": {},
   "source": [
    "5) You have built a machine learning model which you wish to freeze now and use later. Which of the following command can perform this task for you?\n",
    "\n",
    "Note: Pickle library has been imported as pkl.\n",
    "\n",
    "A) push(model, “file”)\n",
    "\n",
    "B) save(model, “file”)\n",
    "\n",
    "C) dump(model, “file”)\n",
    "\n",
    "D) freeze(model, “file”)\n",
    "\n",
    "C)"
   ]
  },
  {
   "cell_type": "markdown",
   "metadata": {},
   "source": []
  },
  {
   "cell_type": "code",
   "execution_count": null,
   "metadata": {},
   "outputs": [],
   "source": []
  }
 ],
 "metadata": {
  "interpreter": {
   "hash": "40d3a090f54c6569ab1632332b64b2c03c39dcf918b08424e98f38b5ae0af88f"
  },
  "kernelspec": {
   "display_name": "Python 3.8.3 ('base')",
   "language": "python",
   "name": "python3"
  },
  "language_info": {
   "codemirror_mode": {
    "name": "ipython",
    "version": 3
   },
   "file_extension": ".py",
   "mimetype": "text/x-python",
   "name": "python",
   "nbconvert_exporter": "python",
   "pygments_lexer": "ipython3",
   "version": "3.8.3"
  },
  "orig_nbformat": 4
 },
 "nbformat": 4,
 "nbformat_minor": 2
}
