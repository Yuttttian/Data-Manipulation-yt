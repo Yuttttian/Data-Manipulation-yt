{
 "cells": [
  {
   "cell_type": "markdown",
   "metadata": {},
   "source": [
    "# Techlent Python 39"
   ]
  },
  {
   "cell_type": "markdown",
   "metadata": {},
   "source": [
    "## 1 Python Kick Off"
   ]
  },
  {
   "cell_type": "markdown",
   "metadata": {},
   "source": [
    "### 1. Hello World\n",
    "Description\n",
    "Build a function HelloWorld which returns \"Hello World\".\n",
    "\n",
    "Examples\n",
    "HelloWorld( ) return \"Hello World\""
   ]
  },
  {
   "cell_type": "code",
   "execution_count": 6,
   "metadata": {},
   "outputs": [],
   "source": [
    "def HelloWorld():\n",
    "    return \"Hello World\""
   ]
  },
  {
   "cell_type": "markdown",
   "metadata": {},
   "source": [
    "### 2. Pound to Kilogram\n",
    "Description\n",
    "Build a function LB2KG which takes a value in pound as input and returns the corresponding value in kilogram. One pound equals to 0.4536 kg.\n",
    "\n",
    "Examples\n",
    "LB2KG(1) returns 0.4536"
   ]
  },
  {
   "cell_type": "markdown",
   "metadata": {},
   "source": [
    "### 3. Odd Number\n",
    "Description\n",
    "Build a function Odd which takes an integer as input and returns a boolin to tell whether the integer is odd or not.\n",
    "\n",
    "Examples\n",
    "Odd(3) returns True\n",
    "Odd(4) returns False"
   ]
  },
  {
   "cell_type": "code",
   "execution_count": 7,
   "metadata": {},
   "outputs": [],
   "source": [
    "def Odd(num):\n",
    "    return (num % 2 == 1)"
   ]
  },
  {
   "cell_type": "markdown",
   "metadata": {},
   "source": [
    "### 4. FizzBuzz\n",
    "Description     \n",
    "Build a function FizzBuzz which takes a positive integer as input. If the number is divisible by 3, the function returns \"Fizz\". If the number is divisible by 5, the function returns \"Buzz\". If the number is divisible by both 3 and 5, the function returns \"FizzBuzz\". Otherwise, the function returns the number itself.\n",
    "\n",
    "Examples        \n",
    "FizzBuzz(45) returns \"FizzBuzz\"     \n",
    "FizzBuzz(9) returns \"Fizz\"      \n",
    "FizzBuzz(25) returns \"Buzz\"     \n",
    "FizzBuzz(17) returns \"17\"       "
   ]
  },
  {
   "cell_type": "code",
   "execution_count": 8,
   "metadata": {},
   "outputs": [],
   "source": [
    "def FizzBuzz(num):\n",
    "    if num % 3 == 0 and num % 5 == 0:\n",
    "        return \"FizzBuzz\"\n",
    "    elif num % 3 == 0:\n",
    "        return \"Fizz\"\n",
    "    elif num % 5 == 0:\n",
    "        return \"Buzz\"\n",
    "    else:\n",
    "        return num"
   ]
  },
  {
   "cell_type": "markdown",
   "metadata": {},
   "source": [
    "### 5. Square Root\n",
    "Description     \n",
    "Build a function sqrt to calculate the square root of a positive integer number. If the result is not a integer, the function returns the nearest integer to the left of the result number.\n",
    "\n",
    "Examples        \n",
    "sqrt(16) returns 4      \n",
    "sqrt(17) returns 4      \n",
    "sqrt(77) returns 8      \n",
    "sqrt(1) returns 1       "
   ]
  },
  {
   "cell_type": "code",
   "execution_count": 9,
   "metadata": {},
   "outputs": [],
   "source": [
    "def sqrt(num):\n",
    "    import math\n",
    "    return math.floor(num**(1/2))"
   ]
  },
  {
   "cell_type": "markdown",
   "metadata": {},
   "source": [
    "## 2 List I"
   ]
  },
  {
   "cell_type": "markdown",
   "metadata": {},
   "source": [
    "### 6. List Comprehension\n",
    "Description     \n",
    "Build a function LstComp which takes two integers (i and j) as inputs and returns a list of numbers from i to j.\n",
    "\n",
    "Examples        \n",
    "LstComp(1, 5) returns [1, 2, 3, 4, 5]"
   ]
  },
  {
   "cell_type": "markdown",
   "metadata": {},
   "source": [
    "def LstComp(i,j):\n",
    "    return [i for i in range(i,j+1)]"
   ]
  },
  {
   "cell_type": "markdown",
   "metadata": {},
   "source": [
    "### 7. OddNums\n",
    "Description     \n",
    "Build a function OddNums which takes two integers (i and j) as inputs and returns a list of ODD numbers between i and j inclusively.\n",
    "\n",
    "Examples        \n",
    "OddNums(1, 5) returns [1, 3, 5]     \n",
    "OddNums(2, 6) returns [3, 5]        \n",
    "OddNums(1, 2) returns [1]"
   ]
  },
  {
   "cell_type": "code",
   "execution_count": 10,
   "metadata": {},
   "outputs": [],
   "source": [
    "def OddNums(i,j):\n",
    "    # if i % 2 != 0:\n",
    "    #     return [i for i in range(i,j+1,2)]\n",
    "    # else:\n",
    "    #     return [i for i in range(i+1,j+1,2)]\n",
    "    return [i for i in range(i,j+1) if i % 2 != 0 ]"
   ]
  },
  {
   "cell_type": "markdown",
   "metadata": {},
   "source": [
    "### Remove Duplicates from a List   \n",
    "Description \n",
    "Build a function RmDuplicate which remove all the duplicates from a list.   \n",
    "\n",
    "Examples    \n",
    "RmDuplicate([3, 1, 2, 3, 4, 5, 6]) returns [1, 2, 3, 4, 5, 6]   \n",
    "RmDuplicate([1, 3, 5]) returns [1, 3, 5]\n",
    "\n",
    "https://www.geeksforgeeks.org/python-ways-to-remove-duplicates-from-list/   \n",
    "https://www.geeksforgeeks.org/python-ways-to-remove-particular-list-element/"
   ]
  },
  {
   "cell_type": "code",
   "execution_count": 2,
   "metadata": {},
   "outputs": [],
   "source": [
    "def RmDuplicate(lst):\n",
    "    res = []\n",
    "    # [res.append(x) for x in lst if x not in res] keep the orginal order\n",
    "    return list(set(lst)) # reorder in ascending order"
   ]
  },
  {
   "cell_type": "code",
   "execution_count": 3,
   "metadata": {},
   "outputs": [
    {
     "data": {
      "text/plain": [
       "[1, 2, 3, 4, 5, 6]"
      ]
     },
     "execution_count": 3,
     "metadata": {},
     "output_type": "execute_result"
    }
   ],
   "source": [
    "RmDuplicate([3, 1, 2, 3, 4, 5, 6])"
   ]
  },
  {
   "cell_type": "markdown",
   "metadata": {},
   "source": [
    "## 3. List II"
   ]
  },
  {
   "cell_type": "markdown",
   "metadata": {},
   "source": [
    "### Sort a List\n",
    "Description     \n",
    "Build a function SortLst which sorts a list. At this time you can just use the built-in function in Python.\n",
    "\n",
    "Examples       \n",
    "SortLst([4, 2, 1, 3, 4, 5]) returns [1, 2, 3, 4, 4, 5]      \n",
    "SortLst([1, 3, 5]) returns [1, 3, 5]"
   ]
  },
  {
   "cell_type": "code",
   "execution_count": 4,
   "metadata": {},
   "outputs": [],
   "source": [
    "def SortLst(lst):\n",
    "    lst.sort()\n",
    "    return  lst"
   ]
  },
  {
   "cell_type": "markdown",
   "metadata": {},
   "source": [
    "### Insert a Number in a Sorted List\n",
    "Description     \n",
    "Build a function NumInsert which inserts a number in a sorted list.\n",
    "\n",
    "Examples       \n",
    "NumInsert([1, 2, 3, 4, 5, 6], 3) returns [1, 2, 3, 3, 4, 5, 6]      \n",
    "NumInsert([1, 2, 3, 4, 5, 6], 7) returns [1, 2, 3, 4, 5, 6, 7]      \n",
    "NumInsert([1, 2, 3, 4, 5, 6], -1) returns [-1, 1, 2, 3, 4, 5, 6]"
   ]
  },
  {
   "cell_type": "code",
   "execution_count": 5,
   "metadata": {},
   "outputs": [],
   "source": [
    "def NumInsert(lst,num):\n",
    "    lst.append(num)\n",
    "    lst.sort()\n",
    "    return lst"
   ]
  },
  {
   "cell_type": "markdown",
   "metadata": {},
   "source": [
    "### Remove duplicates from a sorted list\n",
    "Description \n",
    "Build a function SortRm which removes duplicate numbers in a sorted list.   \n",
    "\n",
    "Examples    \n",
    "SortRm([1, 2, 2, 3, 4, 4, 5, 6]) returns [1, 2, 3, 4, 5, 6]     \n",
    "SortRm([1, 2, 3, 4, 5, 6]) returns [1, 2, 3, 4, 5, 6]"
   ]
  },
  {
   "cell_type": "code",
   "execution_count": 4,
   "metadata": {},
   "outputs": [],
   "source": [
    "def SortRm(lst):\n",
    "    res = []\n",
    "    [res.append(x) for x in lst if x not in res]\n",
    "    return res"
   ]
  },
  {
   "cell_type": "markdown",
   "metadata": {},
   "source": [
    "### Merge Two Sorted Lists\n",
    "Description \n",
    "Build a function MergeSorted which merges two sorted lists as one sorted list.\n",
    "\n",
    "Examples    \n",
    "MergeSorted([1, 3, 5], [2, 4, 6]) returns [1, 2, 3, 4, 5, 6]    \n",
    "MergeSorted([1, 2, 3], [4, 5, 6]) returns [1, 2, 3, 4, 5, 6]"
   ]
  },
  {
   "cell_type": "code",
   "execution_count": 5,
   "metadata": {},
   "outputs": [],
   "source": [
    "def MergeSorted(lst1,lst2):\n",
    "    lst1.extend(lst2)\n",
    "    lst1.sort()\n",
    "    return lst1"
   ]
  },
  {
   "cell_type": "markdown",
   "metadata": {},
   "source": [
    "### List to Number  \n",
    "Description \n",
    "Build a function Lst2Num which convert a number list into one number.   \n",
    "\n",
    "Examples    \n",
    "Lst2Num([1, 3, 5]) returns 135  \n",
    "Lst2Num([0, 1, 2, 0, 3]) returns 1203   \n",
    "https://stackoverflow.com/questions/489999/convert-list-of-ints-to-one-number"
   ]
  },
  {
   "cell_type": "code",
   "execution_count": 2,
   "metadata": {},
   "outputs": [],
   "source": [
    "def Lst2Num(lst):\n",
    "    # num = 0\n",
    "    # for i in range(0,len(lst)):\n",
    "    #     num = num + lst[len(lst)-1-i]*(10)**(i)\n",
    "    # return num\n",
    "\n",
    "    return int(''.join(map(str,lst)))"
   ]
  },
  {
   "cell_type": "code",
   "execution_count": 3,
   "metadata": {},
   "outputs": [
    {
     "data": {
      "text/plain": [
       "1203"
      ]
     },
     "execution_count": 3,
     "metadata": {},
     "output_type": "execute_result"
    }
   ],
   "source": [
    "Lst2Num([0, 1, 2, 0, 3])"
   ]
  },
  {
   "cell_type": "markdown",
   "metadata": {},
   "source": [
    "### Maximum Stock Gain\n",
    "Description \n",
    "Build a function MaxGain to find the maximum you can gain by buying and selling stocks. The strock prices represented as a list of numbers. You need to buy stocks before you sell them.    \n",
    "\n",
    "Examples    \n",
    "MaxGain([3, 4, 1, 5, 7, 2]) returns 6 --Explanation: Buy stocks when the price is 1 and sell them when the price is 7.  \n",
    "MaxGain([5, 4, 3, 2, 1]) returns 0  \n",
    "https://leetcode.cn/problems/best-time-to-buy-and-sell-stock/"
   ]
  },
  {
   "cell_type": "code",
   "execution_count": 28,
   "metadata": {},
   "outputs": [],
   "source": [
    "def MaxGain(price_lst):\n",
    "    if len(price_lst) <= 1:\n",
    "        return 0\n",
    "    \n",
    "    max_profit = 0\n",
    "    min_input = price_lst[0]\n",
    "    for p in price_lst[1:]:\n",
    "        min_input = min(p,min_input)\n",
    "        max_profit = max(max_profit,p - min_input)\n",
    "    return max_profit"
   ]
  },
  {
   "cell_type": "markdown",
   "metadata": {},
   "source": [
    "### Sort List of Lists\n",
    "Description     \n",
    "Build a function SortLL which sorts a list of lists by their last elements.\n",
    "\n",
    "Examples        \n",
    "SortLL([[1, 3, 5], [2, 4], [9, 7], [3]]) returns [[3], [2, 4], [1, 3, 5], [9, 7]]"
   ]
  },
  {
   "cell_type": "code",
   "execution_count": 29,
   "metadata": {},
   "outputs": [],
   "source": [
    "def SortLL(my_lst):\n",
    "    my_lst.sort(key=lambda x:x[-1])\n",
    "    return my_lst"
   ]
  },
  {
   "cell_type": "markdown",
   "metadata": {},
   "source": [
    ".sort()     \n",
    "reverse parameter   \n",
    "use the key parameter to set the built-in or custom function to compare each element of a list and sort it. For example, the following uses the built-in len() function that returns the length of each element and sorts based on the length of each element. the our case, we use lambda funtion      "
   ]
  },
  {
   "cell_type": "markdown",
   "metadata": {},
   "source": [
    "### 22.Pascals Triangle\n",
    "Description     \n",
    "Build a function PascalsT which takes an integer n as an input and generate a n layer Pascals Triangle.\n",
    "\n",
    "Examples    \n",
    "PascalsT(3) returns [[1], [1, 1], [1, 2, 1]]    \n",
    "PascalsT(5) returns [[1], [1, 1], [1, 2, 1], [1, 3, 3, 1], [1, 4, 6, 4, 1]]"
   ]
  },
  {
   "cell_type": "markdown",
   "metadata": {},
   "source": [
    "## 4. String"
   ]
  },
  {
   "cell_type": "markdown",
   "metadata": {},
   "source": [
    "## 5. Dictionary"
   ]
  },
  {
   "cell_type": "markdown",
   "metadata": {},
   "source": [
    "### Key Value Switch\n",
    "Description     \n",
    "Build a function kvSwitch to switch the keys and values of a dictionary.\n",
    "\n",
    "Examples    \n",
    "kvSwitch({\"a\": \"1\", \"b\": \"2\", \"c\": \"3\"}) returns {\"1\": \"a\", \"2\": \"b\", \"3\": “c\"}"
   ]
  },
  {
   "cell_type": "code",
   "execution_count": 2,
   "metadata": {},
   "outputs": [],
   "source": [
    "def kvSwitch(my_dict):\n",
    "    return {y: x for x, y in my_dict.items()}"
   ]
  },
  {
   "cell_type": "markdown",
   "metadata": {},
   "source": [
    "### Rank Keys by Values\n",
    "Description     \n",
    "Build a function RankK which takes a dictionary as input returns a list of keys which sorted by their values.\n",
    "\n",
    "Examples       \n",
    "RankK({\"a\": 7, \"b\": 5, \"c\": 9}) returns [\"b\", \"a\", \"c\"]"
   ]
  },
  {
   "cell_type": "code",
   "execution_count": 1,
   "metadata": {},
   "outputs": [],
   "source": [
    "def RankK(my_dict):\n",
    "    return sorted(my_dict, key=my_dict.get)"
   ]
  },
  {
   "cell_type": "markdown",
   "metadata": {},
   "source": [
    "### Character Frequency\n",
    "Description     \n",
    "Build a function ChaFreq to calculate the frequencies of characters in a string. Store the results in a dictionary.\n",
    "\n",
    "Examples        \n",
    "ChaFreq(\"techlent\") returns {\"c\": 1, \"e\": 2, \"h\": 1, \"l\": 1, \"n\": 1, \"t\": 2}"
   ]
  },
  {
   "cell_type": "code",
   "execution_count": 3,
   "metadata": {},
   "outputs": [],
   "source": [
    "def ChaFreq(my_str):\n",
    "    freq = {}\n",
    "    for i in my_str:\n",
    "        if i in freq:\n",
    "            freq[i] += 1\n",
    "        else:\n",
    "            freq[i] = 1\n",
    "    return freq"
   ]
  },
  {
   "cell_type": "markdown",
   "metadata": {},
   "source": [
    "### Unique Only\n",
    "Description     \n",
    "Build a function UniqueOnly to detect whether a string only contains unique characters.\n",
    "\n",
    "Examples        \n",
    "UniqueOnly(\"techlent\") returns False       \n",
    "UniqueOnly(\"abcde\") returns True"
   ]
  },
  {
   "cell_type": "markdown",
   "metadata": {},
   "source": [
    "https://www.geeksforgeeks.org/determine-string-unique-characters/\n",
    "\n",
    "Time Complexity"
   ]
  },
  {
   "cell_type": "code",
   "execution_count": 26,
   "metadata": {},
   "outputs": [],
   "source": [
    "def UniqueOnly(my_str):\n",
    "    freq = {}\n",
    "    for i in my_str:\n",
    "        if i in freq:\n",
    "            freq[i] += 1\n",
    "        else:\n",
    "            freq[i] = 1\n",
    "    return not any(v > 1 for v in iter(freq.values()))\n",
    "    #  any(v == 1 for v in iter(freq.values()))"
   ]
  },
  {
   "cell_type": "code",
   "execution_count": 27,
   "metadata": {},
   "outputs": [
    {
     "data": {
      "text/plain": [
       "False"
      ]
     },
     "execution_count": 27,
     "metadata": {},
     "output_type": "execute_result"
    }
   ],
   "source": [
    "UniqueOnly('techlent')"
   ]
  },
  {
   "cell_type": "markdown",
   "metadata": {},
   "source": [
    "https://www.analyticsvidhya.com/blog/2017/05/questions-python-for-data-science/\n"
   ]
  },
  {
   "cell_type": "code",
   "execution_count": 4,
   "metadata": {},
   "outputs": [],
   "source": [
    "import re"
   ]
  },
  {
   "cell_type": "code",
   "execution_count": 5,
   "metadata": {},
   "outputs": [],
   "source": [
    "txt = '''450\n",
    " 00:17:53,457 --> 00:17:56,175\n",
    " Okay, but, um,\n",
    " thanks for being with us.\n",
    "\n",
    "451\n",
    " 00:17:56,175 --> 00:17:58,616\n",
    " But, um, if there's any\n",
    " college kids watching,\n",
    "\n",
    "452\n",
    " 00:17:58,616 --> 00:18:01,610\n",
    " But, um, but, um, but, um,\n",
    " but, um, but, um,\n",
    "\n",
    "453\n",
    " 00:18:01,610 --> 00:18:03,656\n",
    " We have to drink, professor.\n",
    "454\n",
    " 00:18:03,656 --> 00:18:07,507\n",
    " It's the rules.\n",
    " She said \"But, um\"\n",
    "\n",
    "455\n",
    " 00:18:09,788 --> 00:18:12,515\n",
    " But, um, but, um, but, um...\n",
    " god help us all.\n",
    " '''"
   ]
  },
  {
   "cell_type": "code",
   "execution_count": 6,
   "metadata": {},
   "outputs": [
    {
     "data": {
      "text/plain": [
       "11"
      ]
     },
     "execution_count": 6,
     "metadata": {},
     "output_type": "execute_result"
    }
   ],
   "source": [
    "len(re.findall('[B,b]ut, um', txt))"
   ]
  },
  {
   "cell_type": "code",
   "execution_count": 7,
   "metadata": {},
   "outputs": [],
   "source": [
    "str = '''Email_Address,Nickname,Group_Status,Join_Year\n",
    "aa@aaa.com,aa,Owner,2014\n",
    "bb@bbb.com,bb,Member,2015\n",
    "cc@ccc.com,cc,Member,2017\n",
    "dd@ddd.com,dd,Member,2016\n",
    "ee@eee.com,ee,Member,2020\n",
    "'''"
   ]
  },
  {
   "cell_type": "code",
   "execution_count": 8,
   "metadata": {},
   "outputs": [
    {
     "name": "stdout",
     "output_type": "stream",
     "text": [
      "aaa\n",
      "bbb\n",
      "ccc\n",
      "ddd\n",
      "eee\n"
     ]
    }
   ],
   "source": [
    "for i in re.finditer('([a-zA-Z]+)@([a-zA-Z]+).(com)', str):\n",
    "    print(i.group(2))"
   ]
  },
  {
   "cell_type": "markdown",
   "metadata": {},
   "source": [
    "Question Context 4\n",
    "\n",
    "Assume, you are given two lists:\n",
    "\n",
    "a = [1,2,3,4,5]\n",
    "\n",
    "b = [6,7,8,9]\n",
    "\n",
    "The task is to create a list which has all the elements of a and b in one dimension.\n",
    "\n",
    "Output:\n",
    "\n",
    "a = [1,2,3,4,5,6,7,8,9]"
   ]
  },
  {
   "cell_type": "code",
   "execution_count": 9,
   "metadata": {},
   "outputs": [
    {
     "name": "stdout",
     "output_type": "stream",
     "text": [
      "[1, 2, 3, 4, 5, 6, 7, 8, 9]\n"
     ]
    }
   ],
   "source": [
    "a = [1,2,3,4,5]\n",
    "b = [6,7,8,9]\n",
    "\n",
    "a.extend(b)\n",
    "print(a)"
   ]
  },
  {
   "cell_type": "markdown",
   "metadata": {},
   "source": [
    "https://www.geeksforgeeks.org/append-extend-python/\n",
    "\n",
    "If you append another list onto a list, the parameter list will be a single object at the end of the list.\n",
    "\n",
    "['geeks', 'for', 'geeks', [6, 0, 4, 1]]"
   ]
  },
  {
   "cell_type": "code",
   "execution_count": null,
   "metadata": {},
   "outputs": [],
   "source": []
  },
  {
   "cell_type": "markdown",
   "metadata": {},
   "source": [
    "5) You have built a machine learning model which you wish to freeze now and use later. Which of the following command can perform this task for you?\n",
    "\n",
    "Note: Pickle library has been imported as pkl.\n",
    "\n",
    "A) push(model, “file”)\n",
    "\n",
    "B) save(model, “file”)\n",
    "\n",
    "C) dump(model, “file”)\n",
    "\n",
    "D) freeze(model, “file”)\n",
    "\n",
    "C)"
   ]
  },
  {
   "cell_type": "markdown",
   "metadata": {},
   "source": []
  },
  {
   "cell_type": "code",
   "execution_count": null,
   "metadata": {},
   "outputs": [],
   "source": []
  }
 ],
 "metadata": {
  "interpreter": {
   "hash": "40d3a090f54c6569ab1632332b64b2c03c39dcf918b08424e98f38b5ae0af88f"
  },
  "kernelspec": {
   "display_name": "Python 3.8.3 ('base')",
   "language": "python",
   "name": "python3"
  },
  "language_info": {
   "codemirror_mode": {
    "name": "ipython",
    "version": 3
   },
   "file_extension": ".py",
   "mimetype": "text/x-python",
   "name": "python",
   "nbconvert_exporter": "python",
   "pygments_lexer": "ipython3",
   "version": "3.8.3"
  },
  "orig_nbformat": 4
 },
 "nbformat": 4,
 "nbformat_minor": 2
}
